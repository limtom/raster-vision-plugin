{
 "cells": [
  {
   "cell_type": "code",
   "execution_count": 13,
   "metadata": {},
   "outputs": [],
   "source": [
    "from rf_raster_vision_plugin.raster_source.config import RfRasterSourceConfigBuilder\n",
    "from rf_raster_vision_plugin.label_source.config import RfLabelSourceConfigBuilder\n",
    "from rf_raster_vision_plugin.label_store.config import RfLabelStoreConfigBuilder\n",
    "import rastervision as rv\n",
    "from rastervision.task.task_config import TaskConfig\n",
    "import matplotlib.pyplot as plt\n",
    "import numpy as np\n",
    "from rastervision.core import Box\n",
    "from rastervision.rv_config import RVConfig\n",
    "from uuid import uuid4\n",
    "%matplotlib inline"
   ]
  },
  {
   "cell_type": "code",
   "execution_count": 18,
   "metadata": {},
   "outputs": [
    {
     "name": "stderr",
     "output_type": "stream",
     "text": [
      "2019-06-19 15:40:01:rastervision.utils.files: INFO - Downloading s3://raster-prediction-api-dev-andrew/clipped-cog-damage.tif to /tmp/tmp0asi7l0o/s3/raster-prediction-api-dev-andrew/clipped-cog-damage.tif\n",
      "2019-06-19 15:40:06:rastervision.utils.files: INFO - Downloading s3://raster-prediction-api-dev-andrew/clipped-cog-damage.tif to /tmp/tmp2psmbt0a/s3/raster-prediction-api-dev-andrew/clipped-cog-damage.tif\n"
     ]
    }
   ],
   "source": [
    "project_id = '71820687-526e-4203-8aab-3bf1acd5cc70' # a public project\n",
    "project_layer_id = '3cec2bbe-bb42-4df8-9478-bc8e57ab011e' # that project's default layer\n",
    "refresh_token = 'YOUR REFRESH TOKEN HERE'\n",
    "\n",
    "rs_config = RfRasterSourceConfigBuilder() \\\n",
    "    .with_project_id(project_id) \\\n",
    "    .with_project_layer_id(project_layer_id) \\\n",
    "    .with_refresh_token(refresh_token) \\\n",
    "    .with_channel_order([1, 2, 3]) \\\n",
    "    .with_num_channels(3) \\\n",
    "    .build()\n",
    "raster_source = rs_config.create_source('/tmp')\n",
    "\n",
    "label_source_config = RfLabelSourceConfigBuilder() \\\n",
    "    .with_annotation_group('59388cf6-5105-467c-a8f3-f098055be8f0') \\\n",
    "    .with_project_id(project_id) \\\n",
    "    .with_project_layer_id(project_layer_id) \\\n",
    "    .with_refresh_token(refresh_token) \\\n",
    "    .with_crs_transformer(raster_source.get_crs_transformer()) \\\n",
    "    .build()\n",
    "label_source = label_source_config.create_source()\n",
    "\n",
    "label_store_config = RfLabelStoreConfigBuilder() \\\n",
    "    .with_annotation_group('59388cf6-5105-467c-a8f3-f098055be8f0') \\\n",
    "    .with_project_id(project_id) \\\n",
    "    .with_project_layer_id(project_layer_id) \\\n",
    "    .with_refresh_token(refresh_token) \\\n",
    "    .with_crs_transformer(raster_source.get_crs_transformer()) \\\n",
    "    .with_class_map({v: k for k, v in label_source._class_map.items()}) \\\n",
    "    .build()\n",
    "\n",
    "# use all the above to make a scene_config\n",
    "\n",
    "# then use the scene_config to make a dataset\n",
    "\n",
    "# then create an evaluator\n",
    "\n",
    "# then create an experiment config that uses the evaluator and the task and the dataset\n",
    "\n",
    "# need to fill in better classes based on what's actually been labeled in example projectst\n",
    "task_config = TaskConfig.builder(rv.OBJECT_DETECTION) \\\n",
    "    .with_chip_size(200) \\\n",
    "    .with_classes({\n",
    "        'building': (1, 'red'),\n",
    "        'no_building': (2, 'black')}) \\\n",
    "    .build()"
   ]
  }
 ],
 "metadata": {
  "kernelspec": {
   "display_name": "Python 3",
   "language": "python",
   "name": "python3"
  },
  "language_info": {
   "codemirror_mode": {
    "name": "ipython",
    "version": 3
   },
   "file_extension": ".py",
   "mimetype": "text/x-python",
   "name": "python",
   "nbconvert_exporter": "python",
   "pygments_lexer": "ipython3",
   "version": "3.5.2"
  }
 },
 "nbformat": 4,
 "nbformat_minor": 2
}
