{
 "cells": [
  {
   "cell_type": "code",
   "execution_count": null,
   "metadata": {},
   "outputs": [],
   "source": [
    "import rf_raster_vision_plugin.raster_source.rf_layer_raster_source as rlrs"
   ]
  },
  {
   "cell_type": "code",
   "execution_count": null,
   "metadata": {},
   "outputs": [],
   "source": [
    "from uuid import uuid4\n",
    "source = rlrs.RfLayerRasterSource(\n",
    "    '71820687-526e-4203-8aab-3bf1acd5cc70', # This project is set to public\n",
    "    '3cec2bbe-bb42-4df8-9478-bc8e57ab011e', # This is the project's default layer id\n",
    "    str(uuid4()), # annotation group id -- not yet relevant\n",
    "    str(uuid4()), # experiment id -- not yet relevant\n",
    "    'YOUR REFRESH TOKEN HERE',\n",
    "    [1, 2, 3],\n",
    "    3\n",
    ")"
   ]
  },
  {
   "cell_type": "code",
   "execution_count": null,
   "metadata": {},
   "outputs": [],
   "source": [
    "source.get_extent()"
   ]
  },
  {
   "cell_type": "code",
   "execution_count": null,
   "metadata": {},
   "outputs": [],
   "source": [
    "from rastervision.core import Box"
   ]
  },
  {
   "cell_type": "code",
   "execution_count": null,
   "metadata": {},
   "outputs": [],
   "source": [
    "bx = Box.make_square(0, 0, 100)\n",
    "(bx.xmax, bx.xmin, bx.ymin, bx.ymax)"
   ]
  },
  {
   "cell_type": "code",
   "execution_count": null,
   "metadata": {},
   "outputs": [],
   "source": [
    "tiff = source._get_chip(source.get_extent())"
   ]
  },
  {
   "cell_type": "code",
   "execution_count": null,
   "metadata": {},
   "outputs": [],
   "source": [
    "tiff.shape"
   ]
  },
  {
   "cell_type": "code",
   "execution_count": null,
   "metadata": {},
   "outputs": [],
   "source": [
    "%matplotlib inline\n",
    "import matplotlib.pyplot as plt\n",
    "fig, axes = plt.subplots(1, 3, figsize=(10, 10))\n",
    "for i, ax in enumerate(axes):\n",
    "    ax.imshow(tiff[i])\n",
    "    ax.set_title('Band ' + str(i + 1))"
   ]
  }
 ],
 "metadata": {
  "kernelspec": {
   "display_name": "Python 3",
   "language": "python",
   "name": "python3"
  },
  "language_info": {
   "codemirror_mode": {
    "name": "ipython",
    "version": 3
   },
   "file_extension": ".py",
   "mimetype": "text/x-python",
   "name": "python",
   "nbconvert_exporter": "python",
   "pygments_lexer": "ipython3",
   "version": "3.5.2"
  }
 },
 "nbformat": 4,
 "nbformat_minor": 2
}
